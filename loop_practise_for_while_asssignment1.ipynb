{
 "cells": [
  {
   "cell_type": "code",
   "execution_count": 1,
   "id": "e72af267-b4a2-4ad1-a0c4-559a7bd94e6d",
   "metadata": {},
   "outputs": [
    {
     "name": "stdout",
     "output_type": "stream",
     "text": [
      "sum  of first 10 natural number is: 55\n",
      "product of 10 natural number is 3628800\n"
     ]
    }
   ],
   "source": [
    "# Q2 calculating print the sum and product of the first 10 natural numbers using for\n",
    "sum1=0\n",
    "for i in range(1,11):\n",
    "    sum1=sum1+i\n",
    "print('sum  of first 10 natural number is:',sum1)\n",
    "# product of 10 natural number using for loop\n",
    "pro=1\n",
    "for i in range(1,11):\n",
    "    pro=pro*i\n",
    "print('product of 10 natural number is',pro)\n",
    "\n"
   ]
  },
  {
   "cell_type": "code",
   "execution_count": 2,
   "id": "2679b01f-9624-4990-878b-bae12dd10f10",
   "metadata": {},
   "outputs": [
    {
     "name": "stdout",
     "output_type": "stream",
     "text": [
      "sum  of first 10 natural number is: 55\n",
      "product of 10 natural number is: 3628800\n"
     ]
    }
   ],
   "source": [
    "#2 now calculating sum using while loop\n",
    "sum2=0\n",
    "i=1\n",
    "while(i<=10):\n",
    "    sum2=sum2+i\n",
    "    i=i+1\n",
    "    \n",
    "print('sum  of first 10 natural number is:',sum2)\n",
    "\n",
    "2#product of 10 natural number is using while loop\n",
    "pro=1\n",
    "i=1\n",
    "while(i<=10):\n",
    "    pro=pro*i\n",
    "    i=i+1\n",
    "print('product of 10 natural number is:',pro)"
   ]
  },
  {
   "cell_type": "code",
   "execution_count": 3,
   "id": "fb3f746e-d5c7-4138-b6e8-7f8baad410fa",
   "metadata": {},
   "outputs": [
    {
     "name": "stdout",
     "output_type": "stream",
     "text": [
      "number of vowels are 12\n"
     ]
    }
   ],
   "source": [
    "# 5 count number of vowels in given string\n",
    "string = \"I want to become a data scientist\"\n",
    "l1=list(string.lower())\n",
    "a=0\n",
    "l1\n",
    "for i in l1:\n",
    "    if(i in ['a','e','i','o','u']):\n",
    "        a=a+1\n",
    "        \n",
    "print('number of vowels are',a)\n",
    "\n"
   ]
  },
  {
   "cell_type": "code",
   "execution_count": 4,
   "id": "e1e4ae16-08a1-45c5-b60d-dfa4c5934c5a",
   "metadata": {},
   "outputs": [
    {
     "name": "stdin",
     "output_type": "stream",
     "text": [
      "enter the number of units: 310\n"
     ]
    },
    {
     "name": "stdout",
     "output_type": "stream",
     "text": [
      "bill amount for given unit is: 2250.0\n"
     ]
    }
   ],
   "source": [
    "# 3 Create a python program to compute the electricity bill for a household.\n",
    "unit=int(input('enter the number of units:'))\n",
    "if(unit<=100):\n",
    "    bill=unit*4.5\n",
    "elif(unit<=200):\n",
    "    bill=100*4.5+(unit-100)*6\n",
    "elif(unit<=300):\n",
    "    bill=100*4.5+100*6+(unit-200)*10\n",
    "else:\n",
    "     bill=100*4.5+100*6+100*10+(unit-300)*20\n",
    "print('bill amount for given unit is:',bill)"
   ]
  },
  {
   "cell_type": "code",
   "execution_count": 6,
   "id": "a1140e82-d84a-4c81-984e-a0754862759c",
   "metadata": {},
   "outputs": [
    {
     "name": "stdout",
     "output_type": "stream",
     "text": [
      "1\n",
      "8\n",
      "27\n",
      "64\n",
      "125\n",
      "216\n",
      "343\n",
      "512\n",
      "729\n",
      "1000\n",
      "1331\n",
      "1728\n",
      "2197\n",
      "2744\n",
      "3375\n",
      "4096\n",
      "4913\n",
      "5832\n",
      "6859\n",
      "8000\n",
      "9261\n",
      "10648\n",
      "12167\n",
      "13824\n",
      "15625\n",
      "17576\n",
      "19683\n",
      "21952\n",
      "24389\n",
      "27000\n",
      "29791\n",
      "32768\n",
      "35937\n",
      "39304\n",
      "42875\n",
      "46656\n",
      "50653\n",
      "54872\n",
      "59319\n",
      "64000\n",
      "68921\n",
      "74088\n",
      "79507\n",
      "85184\n",
      "91125\n",
      "97336\n",
      "103823\n",
      "110592\n",
      "117649\n",
      "125000\n",
      "132651\n",
      "140608\n",
      "148877\n",
      "157464\n",
      "166375\n",
      "175616\n",
      "185193\n",
      "195112\n",
      "205379\n",
      "216000\n",
      "226981\n",
      "238328\n",
      "250047\n",
      "262144\n",
      "274625\n",
      "287496\n",
      "300763\n",
      "314432\n",
      "328509\n",
      "343000\n",
      "357911\n",
      "373248\n",
      "389017\n",
      "405224\n",
      "421875\n",
      "438976\n",
      "456533\n",
      "474552\n",
      "493039\n",
      "512000\n",
      "531441\n",
      "551368\n",
      "571787\n",
      "592704\n",
      "614125\n",
      "636056\n",
      "658503\n",
      "681472\n",
      "704969\n",
      "729000\n",
      "753571\n",
      "778688\n",
      "804357\n",
      "830584\n",
      "857375\n",
      "884736\n",
      "912673\n",
      "941192\n",
      "970299\n",
      "1000000\n",
      "[4, 5, 8, 10, 12, 15, 16, 20, 24, 25, 28, 30, 32, 35, 36, 40, 44, 45, 48, 50, 52, 55, 56, 60, 64, 65, 68, 70, 72, 75, 76, 80, 84, 85, 88, 90, 92, 95, 96, 100]\n"
     ]
    }
   ],
   "source": [
    "# 4\n",
    "l1=list(range(1,101))\n",
    "a=[]\n",
    "for i in l1:\n",
    "    print(i*i*i)\n",
    "    if(i%4==0 or i%5==0):\n",
    "        a.append(i)\n",
    "print(a)\n",
    "        "
   ]
  },
  {
   "cell_type": "code",
   "execution_count": 9,
   "id": "70e4b8a7-cef7-4f0e-b096-b8d812932e74",
   "metadata": {},
   "outputs": [
    {
     "name": "stdout",
     "output_type": "stream",
     "text": [
      "1\n",
      "8\n",
      "27\n",
      "64\n",
      "125\n",
      "216\n",
      "343\n",
      "512\n",
      "729\n",
      "1000\n",
      "1331\n",
      "1728\n",
      "2197\n",
      "2744\n",
      "3375\n",
      "4096\n",
      "4913\n",
      "5832\n",
      "6859\n",
      "8000\n",
      "9261\n",
      "10648\n",
      "12167\n",
      "13824\n",
      "15625\n",
      "17576\n",
      "19683\n",
      "21952\n",
      "24389\n",
      "27000\n",
      "29791\n",
      "32768\n",
      "35937\n",
      "39304\n",
      "42875\n",
      "46656\n",
      "50653\n",
      "54872\n",
      "59319\n",
      "64000\n",
      "68921\n",
      "74088\n",
      "79507\n",
      "85184\n",
      "91125\n",
      "97336\n",
      "103823\n",
      "110592\n",
      "117649\n",
      "125000\n",
      "132651\n",
      "140608\n",
      "148877\n",
      "157464\n",
      "166375\n",
      "175616\n",
      "185193\n",
      "195112\n",
      "205379\n",
      "216000\n",
      "226981\n",
      "238328\n",
      "250047\n",
      "262144\n",
      "274625\n",
      "287496\n",
      "300763\n",
      "314432\n",
      "328509\n",
      "343000\n",
      "357911\n",
      "373248\n",
      "389017\n",
      "405224\n",
      "421875\n",
      "438976\n",
      "456533\n",
      "474552\n",
      "493039\n",
      "512000\n",
      "531441\n",
      "551368\n",
      "571787\n",
      "592704\n",
      "614125\n",
      "636056\n",
      "658503\n",
      "681472\n",
      "704969\n",
      "729000\n",
      "753571\n",
      "778688\n",
      "804357\n",
      "830584\n",
      "857375\n",
      "884736\n",
      "912673\n",
      "941192\n",
      "970299\n",
      "1000000\n",
      "[4, 5, 8, 10, 12, 15, 16, 20, 24, 25, 28, 30, 32, 35, 36, 40, 44, 45, 48, 50, 52, 55, 56, 60, 64, 65, 68, 70, 72, 75, 76, 80, 84, 85, 88, 90, 92, 95, 96, 100]\n",
      "number between 1 to 100 that are divisible by either 4 or 5 are: 40\n"
     ]
    }
   ],
   "source": [
    "l1=list(range(1,101))\n",
    "a=[]\n",
    "i=1\n",
    "while(i<=100):\n",
    "    print(i*i*i)\n",
    "    if(i%4==0 or i%5==0):\n",
    "        a.append(i)\n",
    "    i=i+1\n",
    "print(a)\n",
    "print('number between 1 to 100 that are divisible by either 4 or 5 are:',len(a))\n",
    "    "
   ]
  },
  {
   "cell_type": "code",
   "execution_count": 19,
   "id": "d3e39c8e-bdfe-46e0-9662-9ecfa76fee9d",
   "metadata": {},
   "outputs": [
    {
     "name": "stdout",
     "output_type": "stream",
     "text": [
      "5050\n",
      "5050\n"
     ]
    }
   ],
   "source": [
    "# while loop basically work based on condition if condition inside while is true then only we can enter inside while loop for examp;e\n",
    "# suppose i want to get sum of 100\n",
    "i=1\n",
    "sum1=0\n",
    "while(i<=100):\n",
    "    sum1=sum1+i\n",
    "    i=i+1\n",
    "print(sum1)\n",
    "\n",
    "# but in for loop we don't check this condiotion\n",
    "sum2=0\n",
    "for i in range(1,101):\n",
    "    sum2=sum2+i\n",
    "print(sum2)\n"
   ]
  }
 ],
 "metadata": {
  "kernelspec": {
   "display_name": "Python 3 (ipykernel)",
   "language": "python",
   "name": "python3"
  },
  "language_info": {
   "codemirror_mode": {
    "name": "ipython",
    "version": 3
   },
   "file_extension": ".py",
   "mimetype": "text/x-python",
   "name": "python",
   "nbconvert_exporter": "python",
   "pygments_lexer": "ipython3",
   "version": "3.10.8"
  }
 },
 "nbformat": 4,
 "nbformat_minor": 5
}
